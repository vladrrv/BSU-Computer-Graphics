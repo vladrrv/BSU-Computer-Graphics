{
 "cells": [
  {
   "cell_type": "code",
   "execution_count": 1,
   "metadata": {},
   "outputs": [],
   "source": [
    "import matplotlib.pyplot as plt\n",
    "from matplotlib.patches import Polygon\n",
    "import numpy as np\n",
    "import matplotlib.patches as patches\n",
    "import pylab\n",
    "import math\n",
    "from jupyterthemes import jtplot\n",
    "\n",
    "jtplot.style()"
   ]
  },
  {
   "cell_type": "code",
   "execution_count": 2,
   "metadata": {},
   "outputs": [],
   "source": [
    "def newline(p1, p2):\n",
    "    ax = plt.gca()\n",
    "    xmin, xmax = ax.get_xbound()\n",
    "\n",
    "    if(p2[0] == p1[0]):\n",
    "        xmin = xmax = p1[0]\n",
    "        ymin, ymax = ax.get_ybound()\n",
    "    else:\n",
    "        ymax = p1[1]+(p2[1]-p1[1])/(p2[0]-p1[0])*(xmax-p1[0])\n",
    "        ymin = p1[1]+(p2[1]-p1[1])/(p2[0]-p1[0])*(xmin-p1[0])\n",
    "\n",
    "    l = mlines.Line2D([xmin,xmax], [ymin,ymax])\n",
    "    ax.add_line(l)\n",
    "    return l\n",
    "\n",
    "def clip(subjectPolygon, clipPolygon):\n",
    "    def inside(p):\n",
    "        return(cp2[0]-cp1[0])*(p[1]-cp1[1]) > (cp2[1]-cp1[1])*(p[0]-cp1[0])\n",
    "    def computeIntersection():\n",
    "        dc = [ cp1[0] - cp2[0], cp1[1] - cp2[1] ]\n",
    "        dp = [ s[0] - e[0], s[1] - e[1] ]\n",
    "        n1 = cp1[0] * cp2[1] - cp1[1] * cp2[0]\n",
    "        n2 = s[0] * e[1] - s[1] * e[0] \n",
    "        n3 = 1.0 / (dc[0] * dp[1] - dc[1] * dp[0])\n",
    "        return [(n1*dp[0] - n2*dc[0]) * n3, (n1*dp[1] - n2*dc[1]) * n3]\n",
    "\n",
    "    outputList = subjectPolygon\n",
    "    cp1 = clipPolygon[-1]\n",
    "\n",
    "    for clipVertex in clipPolygon:\n",
    "        cp2 = clipVertex\n",
    "        inputList = outputList\n",
    "        outputList = []\n",
    "        s = inputList[-1]\n",
    "\n",
    "        for subjectVertex in inputList:\n",
    "            e = subjectVertex\n",
    "            if inside(e):\n",
    "                if not inside(s):\n",
    "                    outputList.append(computeIntersection())\n",
    "                outputList.append(e)\n",
    "            elif inside(s):\n",
    "                outputList.append(computeIntersection())\n",
    "            s = e\n",
    "        cp1 = cp2\n",
    "    return(outputList)"
   ]
  },
  {
   "cell_type": "code",
   "execution_count": 5,
   "metadata": {},
   "outputs": [
    {
     "name": "stdout",
     "output_type": "stream",
     "text": [
      "[(50, 150), (200, 50), (350, 150), (350, 300), (250, 300), (200, 250), (150, 350), (100, 250), (100, 200)]\n",
      "[(100, 100), (400, 100), (400, 300), (100, 300)]\n",
      "[[100.0, 116.66666666666667], [125.00000000000006, 100.00000000000001], [275.0, 100.0], (350, 150), [350.0, 300.0], [250.0, 300.0], (200, 250), [175.0, 300.0], [125.0, 300.0], [100.0, 250.0]]\n"
     ]
    },
    {
     "data": {
      "image/png": "[encoded data removed]",
      "text/plain": [
       "<Figure size 432x288 with 1 Axes>"
      ]
     },
     "metadata": {
      "needs_background": "dark"
     },
     "output_type": "display_data"
    }
   ],
   "source": [
    "subjectPolygon =  [(50,150),(200,50),(350,150),(350,300),(250,300),(200,250),(150,350),(100,250),(100,200)]\n",
    "clipPolygon = [(100,100),(400,100),(400,300),(100,300)]\n",
    "outputList = clip(subjectPolygon, clipPolygon)\n",
    "\n",
    "polygons = [subjectPolygon, clipPolygon, outputList]\n",
    "colors = ['red', 'green', 'blue']\n",
    "width = [7, 5, 3]\n",
    "\n",
    "for i in range(3):\n",
    "    pp = polygons[i]\n",
    "#    pp.append(pp[0])\n",
    "    print(pp)\n",
    "    cent=(sum([p[0] for p in pp])/len(pp),sum([p[1] for p in pp])/len(pp))\n",
    "    # sort by polar angle\n",
    "    pp.sort(key=lambda p: math.atan2(p[1]-cent[1],p[0]-cent[0]))\n",
    "    # plot points\n",
    "    pylab.scatter([p[0] for p in pp],[p[1] for p in pp])\n",
    "    # plot polyline\n",
    "    pylab.gca().add_patch(patches.Polygon(pp,closed=True,fill=False, color=colors[i], linewidth = width[i]))\n",
    "    pylab.grid()\n",
    "pylab.show()"
   ]
  },
  {
   "cell_type": "code",
   "execution_count": null,
   "metadata": {},
   "outputs": [],
   "source": []
  }
 ],
 "metadata": {
  "kernelspec": {
   "display_name": "Python 3",
   "language": "python",
   "name": "python3"
  },
  "language_info": {
   "codemirror_mode": {
    "name": "ipython",
    "version": 3
   },
   "file_extension": ".py",
   "mimetype": "text/x-python",
   "name": "python",
   "nbconvert_exporter": "python",
   "pygments_lexer": "ipython3",
   "version": "3.6.6"
  }
 },
 "nbformat": 4,
 "nbformat_minor": 2
}
